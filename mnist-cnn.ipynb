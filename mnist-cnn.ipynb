{
 "cells": [
  {
   "cell_type": "code",
   "execution_count": 13,
   "id": "funny-sacramento",
   "metadata": {},
   "outputs": [],
   "source": [
    "import pandas as pd\n",
    "import numpy as np\n",
    "import matplotlib.pyplot as plt\n",
    "import matplotlib.image as mpimg\n",
    "import seaborn as sns\n",
    "import tensorflow as tf\n",
    "\n",
    "from sklearn.model_selection import train_test_split\n",
    "from sklearn.metrics import confusion_matrix\n",
    "import itertools\n",
    "\n",
    "from keras.utils.np_utils import to_categorical # convert to one-hot-encoding\n",
    "from keras.models import Sequential\n",
    "from keras.layers import Dense, Dropout, Flatten, Conv2D, MaxPool2D\n",
    "from keras.optimizers import RMSprop\n",
    "from keras.preprocessing.image import ImageDataGenerator\n",
    "from tensorflow.keras.callbacks import ReduceLROnPlateau"
   ]
  },
  {
   "cell_type": "code",
   "execution_count": 14,
   "id": "informal-compound",
   "metadata": {},
   "outputs": [],
   "source": [
    "%matplotlib inline\n",
    "np.random.seed(2)"
   ]
  },
  {
   "cell_type": "code",
   "execution_count": 15,
   "id": "nominated-puzzle",
   "metadata": {},
   "outputs": [],
   "source": [
    "train = pd.read_csv(\"mnist_data/train.csv\")\n",
    "test = pd.read_csv(\"mnist_data/test.csv\")"
   ]
  },
  {
   "cell_type": "code",
   "execution_count": 16,
   "id": "classified-uniform",
   "metadata": {},
   "outputs": [],
   "source": [
    "Y_train = train[\"label\"]"
   ]
  },
  {
   "cell_type": "code",
   "execution_count": 17,
   "id": "typical-moldova",
   "metadata": {},
   "outputs": [],
   "source": [
    "X_train = train.drop(labels = [\"label\"],axis = 1) "
   ]
  },
  {
   "cell_type": "code",
   "execution_count": 18,
   "id": "operating-youth",
   "metadata": {},
   "outputs": [],
   "source": [
    "del train "
   ]
  },
  {
   "cell_type": "code",
   "execution_count": 19,
   "id": "alleged-butler",
   "metadata": {},
   "outputs": [
    {
     "name": "stderr",
     "output_type": "stream",
     "text": [
      "/home/sahej/practice/digit-3.8/lib/python3.8/site-packages/seaborn/_decorators.py:36: FutureWarning: Pass the following variable as a keyword arg: x. From version 0.12, the only valid positional argument will be `data`, and passing other arguments without an explicit keyword will result in an error or misinterpretation.\n",
      "  warnings.warn(\n"
     ]
    },
    {
     "data": {
      "image/png": "[encoded data removed]",
      "text/plain": [
       "<Figure size 432x288 with 1 Axes>"
      ]
     },
     "metadata": {
      "needs_background": "light"
     },
     "output_type": "display_data"
    }
   ],
   "source": [
    "g = sns.countplot(Y_train)"
   ]
  },
  {
   "cell_type": "code",
   "execution_count": 20,
   "id": "guided-olympus",
   "metadata": {},
   "outputs": [],
   "source": [
    "Y_train.value_counts()\n",
    "X_train.isnull().any().describe()\n",
    "test.isnull().any().describe()\n",
    "X_train = X_train / 255.0\n",
    "test = test / 255.0\n",
    "X_train = X_train.values.reshape(-1,28,28,1)\n",
    "test = test.values.reshape(-1,28,28,1)"
   ]
  },
  {
   "cell_type": "code",
   "execution_count": 21,
   "id": "central-circle",
   "metadata": {},
   "outputs": [],
   "source": [
    "Y_train = to_categorical(Y_train, num_classes = 10)\n"
   ]
  },
  {
   "cell_type": "code",
   "execution_count": 22,
   "id": "processed-dialogue",
   "metadata": {},
   "outputs": [],
   "source": [
    "random_seed = 2"
   ]
  },
  {
   "cell_type": "code",
   "execution_count": 23,
   "id": "patient-routine",
   "metadata": {},
   "outputs": [],
   "source": [
    "X_train, X_val, Y_train, Y_val = train_test_split(X_train, Y_train, test_size = 0.1, random_state=random_seed)"
   ]
  },
  {
   "cell_type": "code",
   "execution_count": 24,
   "id": "periodic-backup",
   "metadata": {},
   "outputs": [
    {
     "data": {
      "image/png": "[encoded data removed]",
      "text/plain": [
       "<Figure size 432x288 with 1 Axes>"
      ]
     },
     "metadata": {
      "needs_background": "light"
     },
     "output_type": "display_data"
    }
   ],
   "source": [
    "g = plt.imshow(X_train[0][:,:,0])"
   ]
  },
  {
   "cell_type": "code",
   "execution_count": 25,
   "id": "accessory-prophet",
   "metadata": {},
   "outputs": [],
   "source": [
    "model = Sequential()\n",
    "\n",
    "model.add(Conv2D(filters = 32, kernel_size = (5,5),padding = 'Same', \n",
    "                 activation ='relu', input_shape = (28,28,1)))\n",
    "model.add(Conv2D(filters = 32, kernel_size = (5,5),padding = 'Same', \n",
    "                 activation ='relu'))\n",
    "model.add(MaxPool2D(pool_size=(2,2)))\n",
    "model.add(Dropout(0.25))\n",
    "\n",
    "\n",
    "model.add(Conv2D(filters = 64, kernel_size = (3,3),padding = 'Same', \n",
    "                 activation ='relu'))\n",
    "model.add(Conv2D(filters = 64, kernel_size = (3,3),padding = 'Same', \n",
    "                 activation ='relu'))\n",
    "model.add(MaxPool2D(pool_size=(2,2), strides=(2,2)))\n",
    "model.add(Dropout(0.25))\n",
    "\n",
    "\n",
    "model.add(Flatten())\n",
    "model.add(Dense(256, activation = \"relu\"))\n",
    "model.add(Dropout(0.5))\n",
    "model.add(Dense(10, activation = \"softmax\"))"
   ]
  },
  {
   "cell_type": "code",
   "execution_count": 26,
   "id": "coordinated-ethnic",
   "metadata": {},
   "outputs": [],
   "source": [
    "optimizer = RMSprop(lr=0.001, rho=0.9, epsilon=1e-08, decay=0.0)"
   ]
  },
  {
   "cell_type": "code",
   "execution_count": 27,
   "id": "unnecessary-cache",
   "metadata": {},
   "outputs": [],
   "source": [
    "model.compile(optimizer = optimizer , loss = \"categorical_crossentropy\", metrics=[\"accuracy\"])"
   ]
  },
  {
   "cell_type": "code",
   "execution_count": 28,
   "id": "younger-listing",
   "metadata": {},
   "outputs": [],
   "source": [
    "learning_rate_reduction = ReduceLROnPlateau(monitor='val_acc', \n",
    "                                            patience=3, \n",
    "                                            verbose=1, \n",
    "                                            factor=0.5, \n",
    "                                            min_lr=0.00001)"
   ]
  },
  {
   "cell_type": "code",
   "execution_count": 29,
   "id": "electrical-shower",
   "metadata": {},
   "outputs": [],
   "source": [
    "epochs = 30\n",
    "batch_size = 86"
   ]
  },
  {
   "cell_type": "code",
   "execution_count": 30,
   "id": "coral-mirror",
   "metadata": {},
   "outputs": [
    {
     "name": "stdout",
     "output_type": "stream",
     "text": [
      "Epoch 1/30\n",
      "440/440 [==============================] - 100s 225ms/step - loss: 0.4923 - accuracy: 0.8378 - val_loss: 0.0632 - val_accuracy: 0.9802\n",
      "Epoch 2/30\n",
      "440/440 [==============================] - 102s 232ms/step - loss: 0.0791 - accuracy: 0.9762 - val_loss: 0.0496 - val_accuracy: 0.9867\n",
      "Epoch 3/30\n",
      "440/440 [==============================] - 106s 241ms/step - loss: 0.0569 - accuracy: 0.9831 - val_loss: 0.0356 - val_accuracy: 0.9886\n",
      "Epoch 4/30\n",
      "440/440 [==============================] - 104s 236ms/step - loss: 0.0436 - accuracy: 0.9864 - val_loss: 0.0344 - val_accuracy: 0.9902\n",
      "Epoch 5/30\n",
      "440/440 [==============================] - 108s 245ms/step - loss: 0.0392 - accuracy: 0.9888 - val_loss: 0.0376 - val_accuracy: 0.9912\n",
      "Epoch 6/30\n",
      "440/440 [==============================] - 101s 230ms/step - loss: 0.0363 - accuracy: 0.9886 - val_loss: 0.0347 - val_accuracy: 0.9910\n",
      "Epoch 7/30\n",
      "440/440 [==============================] - 102s 231ms/step - loss: 0.0346 - accuracy: 0.9897 - val_loss: 0.0347 - val_accuracy: 0.9902\n",
      "Epoch 8/30\n",
      "440/440 [==============================] - 108s 246ms/step - loss: 0.0283 - accuracy: 0.9915 - val_loss: 0.0300 - val_accuracy: 0.9924\n",
      "Epoch 9/30\n",
      "440/440 [==============================] - 100s 228ms/step - loss: 0.0309 - accuracy: 0.9910 - val_loss: 0.0339 - val_accuracy: 0.9919\n",
      "Epoch 10/30\n",
      "440/440 [==============================] - 101s 230ms/step - loss: 0.0262 - accuracy: 0.9928 - val_loss: 0.0319 - val_accuracy: 0.9902\n",
      "Epoch 11/30\n",
      "440/440 [==============================] - 99s 225ms/step - loss: 0.0282 - accuracy: 0.9919 - val_loss: 0.0259 - val_accuracy: 0.9921\n",
      "Epoch 12/30\n",
      "440/440 [==============================] - 102s 231ms/step - loss: 0.0256 - accuracy: 0.9924 - val_loss: 0.0385 - val_accuracy: 0.9907\n",
      "Epoch 13/30\n",
      "440/440 [==============================] - 101s 230ms/step - loss: 0.0277 - accuracy: 0.9918 - val_loss: 0.0292 - val_accuracy: 0.9933\n",
      "Epoch 14/30\n",
      "440/440 [==============================] - 99s 225ms/step - loss: 0.0281 - accuracy: 0.9919 - val_loss: 0.0306 - val_accuracy: 0.9919\n",
      "Epoch 15/30\n",
      "440/440 [==============================] - 97s 221ms/step - loss: 0.0249 - accuracy: 0.9917 - val_loss: 0.0251 - val_accuracy: 0.9940\n",
      "Epoch 16/30\n",
      "440/440 [==============================] - 97s 221ms/step - loss: 0.0257 - accuracy: 0.9921 - val_loss: 0.0283 - val_accuracy: 0.9929\n",
      "Epoch 17/30\n",
      "440/440 [==============================] - 98s 222ms/step - loss: 0.0265 - accuracy: 0.9931 - val_loss: 0.0284 - val_accuracy: 0.9931\n",
      "Epoch 18/30\n",
      "440/440 [==============================] - 97s 221ms/step - loss: 0.0250 - accuracy: 0.9936 - val_loss: 0.0356 - val_accuracy: 0.9912\n",
      "Epoch 19/30\n",
      "440/440 [==============================] - 97s 221ms/step - loss: 0.0241 - accuracy: 0.9932 - val_loss: 0.0352 - val_accuracy: 0.9921\n",
      "Epoch 20/30\n",
      "440/440 [==============================] - 97s 220ms/step - loss: 0.0305 - accuracy: 0.9918 - val_loss: 0.0442 - val_accuracy: 0.9924\n",
      "Epoch 21/30\n",
      "440/440 [==============================] - 96s 218ms/step - loss: 0.0336 - accuracy: 0.9920 - val_loss: 0.0356 - val_accuracy: 0.9933\n",
      "Epoch 22/30\n",
      "440/440 [==============================] - 96s 218ms/step - loss: 0.0326 - accuracy: 0.9915 - val_loss: 0.0281 - val_accuracy: 0.9929\n",
      "Epoch 23/30\n",
      "440/440 [==============================] - 96s 218ms/step - loss: 0.0276 - accuracy: 0.9919 - val_loss: 0.0335 - val_accuracy: 0.9948\n",
      "Epoch 24/30\n",
      "440/440 [==============================] - 96s 218ms/step - loss: 0.0332 - accuracy: 0.9917 - val_loss: 0.0274 - val_accuracy: 0.9938\n",
      "Epoch 25/30\n",
      "440/440 [==============================] - 96s 218ms/step - loss: 0.0321 - accuracy: 0.9917 - val_loss: 0.0324 - val_accuracy: 0.9921\n",
      "Epoch 26/30\n",
      "440/440 [==============================] - 96s 218ms/step - loss: 0.0313 - accuracy: 0.9925 - val_loss: 0.0549 - val_accuracy: 0.9883\n",
      "Epoch 27/30\n",
      "440/440 [==============================] - 96s 218ms/step - loss: 0.0310 - accuracy: 0.9925 - val_loss: 0.0360 - val_accuracy: 0.9919\n",
      "Epoch 28/30\n",
      "440/440 [==============================] - 99s 225ms/step - loss: 0.0371 - accuracy: 0.9915 - val_loss: 0.0403 - val_accuracy: 0.9921\n",
      "Epoch 29/30\n",
      "440/440 [==============================] - 105s 239ms/step - loss: 0.0323 - accuracy: 0.9917 - val_loss: 0.0372 - val_accuracy: 0.9921\n",
      "Epoch 30/30\n",
      "440/440 [==============================] - 99s 224ms/step - loss: 0.0352 - accuracy: 0.9911 - val_loss: 0.0320 - val_accuracy: 0.9905\n"
     ]
    }
   ],
   "source": [
    "history = model.fit(X_train, Y_train, batch_size = batch_size, epochs = epochs, \n",
    "          validation_data = (X_val, Y_val))"
   ]
  },
  {
   "cell_type": "code",
   "execution_count": 31,
   "id": "utility-lending",
   "metadata": {},
   "outputs": [
    {
     "name": "stdout",
     "output_type": "stream",
     "text": [
      "INFO:tensorflow:Assets written to: /tmp/tmp1dabcax1/assets\n"
     ]
    },
    {
     "data": {
      "text/plain": [
       "3554212"
      ]
     },
     "execution_count": 31,
     "metadata": {},
     "output_type": "execute_result"
    }
   ],
   "source": [
    "model.save('mnist.h5')\n",
    "\n",
    "model = tf.keras.models.load_model(\"mnist.h5\")\n",
    "converter = tf.lite.TFLiteConverter.from_keras_model(model)\n",
    "tflite_model = converter.convert()\n",
    "open('mnist.tflite', 'wb').write(tflite_model)"
   ]
  },
  {
   "cell_type": "code",
   "execution_count": null,
   "id": "refined-terrace",
   "metadata": {},
   "outputs": [],
   "source": []
  }
 ],
 "metadata": {
  "kernelspec": {
   "display_name": "Python-digit-3.8",
   "language": "python",
   "name": "digit-3.8"
  },
  "language_info": {
   "codemirror_mode": {
    "name": "ipython",
    "version": 3
   },
   "file_extension": ".py",
   "mimetype": "text/x-python",
   "name": "python",
   "nbconvert_exporter": "python",
   "pygments_lexer": "ipython3",
   "version": "3.8.9"
  }
 },
 "nbformat": 4,
 "nbformat_minor": 5
}
